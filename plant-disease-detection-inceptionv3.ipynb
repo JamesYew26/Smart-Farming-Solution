{
 "cells": [
  {
   "cell_type": "code",
   "execution_count": 3,
   "metadata": {},
   "outputs": [
    {
     "name": "stdout",
     "output_type": "stream",
     "text": [
      "Requirement already satisfied: tensorflow in c:\\users\\asus\\anaconda3\\lib\\site-packages (2.17.0)\n",
      "Requirement already satisfied: tensorflow-intel==2.17.0 in c:\\users\\asus\\anaconda3\\lib\\site-packages (from tensorflow) (2.17.0)\n",
      "Requirement already satisfied: absl-py>=1.0.0 in c:\\users\\asus\\anaconda3\\lib\\site-packages (from tensorflow-intel==2.17.0->tensorflow) (2.1.0)\n",
      "Requirement already satisfied: astunparse>=1.6.0 in c:\\users\\asus\\anaconda3\\lib\\site-packages (from tensorflow-intel==2.17.0->tensorflow) (1.6.3)\n",
      "Requirement already satisfied: flatbuffers>=24.3.25 in c:\\users\\asus\\anaconda3\\lib\\site-packages (from tensorflow-intel==2.17.0->tensorflow) (24.3.25)\n",
      "Requirement already satisfied: gast!=0.5.0,!=0.5.1,!=0.5.2,>=0.2.1 in c:\\users\\asus\\anaconda3\\lib\\site-packages (from tensorflow-intel==2.17.0->tensorflow) (0.6.0)\n",
      "Requirement already satisfied: google-pasta>=0.1.1 in c:\\users\\asus\\anaconda3\\lib\\site-packages (from tensorflow-intel==2.17.0->tensorflow) (0.2.0)\n",
      "Requirement already satisfied: h5py>=3.10.0 in c:\\users\\asus\\anaconda3\\lib\\site-packages (from tensorflow-intel==2.17.0->tensorflow) (3.11.0)\n",
      "Requirement already satisfied: libclang>=13.0.0 in c:\\users\\asus\\anaconda3\\lib\\site-packages (from tensorflow-intel==2.17.0->tensorflow) (18.1.1)\n",
      "Requirement already satisfied: ml-dtypes<0.5.0,>=0.3.1 in c:\\users\\asus\\anaconda3\\lib\\site-packages (from tensorflow-intel==2.17.0->tensorflow) (0.4.0)\n",
      "Requirement already satisfied: opt-einsum>=2.3.2 in c:\\users\\asus\\anaconda3\\lib\\site-packages (from tensorflow-intel==2.17.0->tensorflow) (3.3.0)\n",
      "Requirement already satisfied: packaging in c:\\users\\asus\\anaconda3\\lib\\site-packages (from tensorflow-intel==2.17.0->tensorflow) (23.2)\n",
      "Requirement already satisfied: protobuf!=4.21.0,!=4.21.1,!=4.21.2,!=4.21.3,!=4.21.4,!=4.21.5,<5.0.0dev,>=3.20.3 in c:\\users\\asus\\anaconda3\\lib\\site-packages (from tensorflow-intel==2.17.0->tensorflow) (3.20.3)\n",
      "Requirement already satisfied: requests<3,>=2.21.0 in c:\\users\\asus\\anaconda3\\lib\\site-packages (from tensorflow-intel==2.17.0->tensorflow) (2.32.2)\n",
      "Requirement already satisfied: setuptools in c:\\users\\asus\\anaconda3\\lib\\site-packages (from tensorflow-intel==2.17.0->tensorflow) (69.5.1)\n",
      "Requirement already satisfied: six>=1.12.0 in c:\\users\\asus\\anaconda3\\lib\\site-packages (from tensorflow-intel==2.17.0->tensorflow) (1.16.0)\n",
      "Requirement already satisfied: termcolor>=1.1.0 in c:\\users\\asus\\anaconda3\\lib\\site-packages (from tensorflow-intel==2.17.0->tensorflow) (2.4.0)\n",
      "Requirement already satisfied: typing-extensions>=3.6.6 in c:\\users\\asus\\anaconda3\\lib\\site-packages (from tensorflow-intel==2.17.0->tensorflow) (4.11.0)\n",
      "Requirement already satisfied: wrapt>=1.11.0 in c:\\users\\asus\\anaconda3\\lib\\site-packages (from tensorflow-intel==2.17.0->tensorflow) (1.14.1)\n",
      "Requirement already satisfied: grpcio<2.0,>=1.24.3 in c:\\users\\asus\\anaconda3\\lib\\site-packages (from tensorflow-intel==2.17.0->tensorflow) (1.65.5)\n",
      "Requirement already satisfied: tensorboard<2.18,>=2.17 in c:\\users\\asus\\anaconda3\\lib\\site-packages (from tensorflow-intel==2.17.0->tensorflow) (2.17.1)\n",
      "Requirement already satisfied: keras>=3.2.0 in c:\\users\\asus\\anaconda3\\lib\\site-packages (from tensorflow-intel==2.17.0->tensorflow) (3.5.0)\n",
      "Requirement already satisfied: numpy<2.0.0,>=1.26.0 in c:\\users\\asus\\anaconda3\\lib\\site-packages (from tensorflow-intel==2.17.0->tensorflow) (1.26.4)\n",
      "Requirement already satisfied: wheel<1.0,>=0.23.0 in c:\\users\\asus\\anaconda3\\lib\\site-packages (from astunparse>=1.6.0->tensorflow-intel==2.17.0->tensorflow) (0.43.0)\n",
      "Requirement already satisfied: rich in c:\\users\\asus\\anaconda3\\lib\\site-packages (from keras>=3.2.0->tensorflow-intel==2.17.0->tensorflow) (13.3.5)\n",
      "Requirement already satisfied: namex in c:\\users\\asus\\anaconda3\\lib\\site-packages (from keras>=3.2.0->tensorflow-intel==2.17.0->tensorflow) (0.0.8)\n",
      "Requirement already satisfied: optree in c:\\users\\asus\\anaconda3\\lib\\site-packages (from keras>=3.2.0->tensorflow-intel==2.17.0->tensorflow) (0.12.1)\n",
      "Requirement already satisfied: charset-normalizer<4,>=2 in c:\\users\\asus\\anaconda3\\lib\\site-packages (from requests<3,>=2.21.0->tensorflow-intel==2.17.0->tensorflow) (2.0.4)\n",
      "Requirement already satisfied: idna<4,>=2.5 in c:\\users\\asus\\anaconda3\\lib\\site-packages (from requests<3,>=2.21.0->tensorflow-intel==2.17.0->tensorflow) (3.7)\n",
      "Requirement already satisfied: urllib3<3,>=1.21.1 in c:\\users\\asus\\anaconda3\\lib\\site-packages (from requests<3,>=2.21.0->tensorflow-intel==2.17.0->tensorflow) (2.2.2)\n",
      "Requirement already satisfied: certifi>=2017.4.17 in c:\\users\\asus\\anaconda3\\lib\\site-packages (from requests<3,>=2.21.0->tensorflow-intel==2.17.0->tensorflow) (2024.7.4)\n",
      "Requirement already satisfied: markdown>=2.6.8 in c:\\users\\asus\\anaconda3\\lib\\site-packages (from tensorboard<2.18,>=2.17->tensorflow-intel==2.17.0->tensorflow) (3.4.1)\n",
      "Requirement already satisfied: tensorboard-data-server<0.8.0,>=0.7.0 in c:\\users\\asus\\anaconda3\\lib\\site-packages (from tensorboard<2.18,>=2.17->tensorflow-intel==2.17.0->tensorflow) (0.7.2)\n",
      "Requirement already satisfied: werkzeug>=1.0.1 in c:\\users\\asus\\anaconda3\\lib\\site-packages (from tensorboard<2.18,>=2.17->tensorflow-intel==2.17.0->tensorflow) (3.0.3)\n",
      "Requirement already satisfied: MarkupSafe>=2.1.1 in c:\\users\\asus\\anaconda3\\lib\\site-packages (from werkzeug>=1.0.1->tensorboard<2.18,>=2.17->tensorflow-intel==2.17.0->tensorflow) (2.1.3)\n",
      "Requirement already satisfied: markdown-it-py<3.0.0,>=2.2.0 in c:\\users\\asus\\anaconda3\\lib\\site-packages (from rich->keras>=3.2.0->tensorflow-intel==2.17.0->tensorflow) (2.2.0)\n",
      "Requirement already satisfied: pygments<3.0.0,>=2.13.0 in c:\\users\\asus\\anaconda3\\lib\\site-packages (from rich->keras>=3.2.0->tensorflow-intel==2.17.0->tensorflow) (2.15.1)\n",
      "Requirement already satisfied: mdurl~=0.1 in c:\\users\\asus\\anaconda3\\lib\\site-packages (from markdown-it-py<3.0.0,>=2.2.0->rich->keras>=3.2.0->tensorflow-intel==2.17.0->tensorflow) (0.1.0)\n",
      "Note: you may need to restart the kernel to use updated packages.\n"
     ]
    }
   ],
   "source": [
    "pip install tensorflow"
   ]
  },
  {
   "cell_type": "code",
   "execution_count": 5,
   "metadata": {
    "_cell_guid": "b1076dfc-b9ad-4769-8c92-a6c4dae69d19",
    "_uuid": "8f2839f25d086af736a60e9eeb907d3b93b6e0e5"
   },
   "outputs": [],
   "source": [
    "from tensorflow.keras.applications import InceptionV3\n",
    "from tensorflow.keras.layers import Dense, GlobalAveragePooling2D, Dropout, Flatten, Input\n",
    "from tensorflow.keras.models import Model\n",
    "from tensorflow.keras.optimizers import Adam\n",
    "from tensorflow.keras.preprocessing.image import ImageDataGenerator\n",
    "from tensorflow.keras.applications.inception_v3 import preprocess_input\n",
    "from tensorflow.keras.layers import Flatten, Dense, Dropout, Input\n",
    "from tensorflow.keras.models import Model\n",
    "from tensorflow.keras.optimizers import Adam\n",
    "from tensorflow.keras.utils import to_categorical\n",
    "from tensorflow.keras.preprocessing.image import ImageDataGenerator\n",
    "\n",
    "import numpy as np\n",
    "from sklearn.metrics import classification_report\n",
    "import time "
   ]
  },
  {
   "cell_type": "code",
   "execution_count": 7,
   "metadata": {},
   "outputs": [
    {
     "name": "stdout",
     "output_type": "stream",
     "text": [
      "Contents of the directory:\n",
      "Apple___Apple_scab\n",
      "Apple___Black_rot\n",
      "Apple___Cedar_apple_rust\n",
      "Apple___healthy\n",
      "Cherry_(including_sour)___healthy\n",
      "Cherry_(including_sour)___Powdery_mildew\n",
      "Chili__healthy\n",
      "Chili__leaf curl\n",
      "Chili__leaf spot\n",
      "Chili__whitefly\n",
      "Chili__yellowish\n",
      "Coffee__healthy\n",
      "Coffee__red spider mite\n",
      "Coffee__Rust\n",
      "Corn_(maize)___Cercospora_leaf_spot Gray_leaf_spot\n",
      "Corn_(maize)___Common_rust_\n",
      "Corn_(maize)___healthy\n",
      "Corn_(maize)___Northern_Leaf_Blight\n",
      "Grape___Black_rot\n",
      "Grape___Esca_(Black_Measles)\n",
      "Grape___healthy\n",
      "Grape___Leaf_blight_(Isariopsis_Leaf_Spot)\n",
      "Peach___Bacterial_spot\n",
      "Peach___healthy\n",
      "Pepper,_bell___Bacterial_spot\n",
      "Pepper,_bell___healthy\n",
      "Potato___Early_blight\n",
      "Potato___healthy\n",
      "Potato___Late_blight\n",
      "Strawberry___healthy\n",
      "Strawberry___Leaf_scorch\n",
      "Tomato___Bacterial_spot\n",
      "Tomato___Early_blight\n",
      "Tomato___healthy\n",
      "Tomato___Late_blight\n",
      "Tomato___Leaf_Mold\n",
      "Tomato___Septoria_leaf_spot\n",
      "Tomato___Spider_mites Two-spotted_spider_mite\n",
      "Tomato___Target_Spot\n",
      "Tomato___Tomato_mosaic_virus\n",
      "Tomato___Tomato_Yellow_Leaf_Curl_Virus\n",
      "\n",
      "Number of directories: 41\n"
     ]
    }
   ],
   "source": [
    "import os\n",
    "\n",
    "directory = '/Users/ASUS/Downloads/archive/dataset/train'\n",
    "contents = os.listdir(directory)\n",
    "num_of_dirs = len([name for name in contents if os.path.isdir(os.path.join(directory, name))])\n",
    "\n",
    "print(\"Contents of the directory:\")\n",
    "for item in contents:\n",
    "    print(item)\n",
    "\n",
    "print(f\"\\nNumber of directories: {num_of_dirs}\")\n"
   ]
  },
  {
   "cell_type": "code",
   "execution_count": 9,
   "metadata": {},
   "outputs": [
    {
     "name": "stdout",
     "output_type": "stream",
     "text": [
      "No images found in the directory.\n"
     ]
    }
   ],
   "source": [
    "from PIL import Image\n",
    "import os\n",
    "\n",
    "# Define the directory path\n",
    "directory_path = '/Users/ASUS/Downloads/archive/dataset/train'\n",
    "\n",
    "# List all files in the directory\n",
    "file_names = os.listdir(directory_path)\n",
    "\n",
    "# Load images from the directory\n",
    "images = []\n",
    "for file_name in file_names:\n",
    "    if file_name.endswith('.png') or file_name.endswith('.jpg') or file_name.endswith('.jpeg'):\n",
    "        image_path = os.path.join(directory_path, file_name)\n",
    "        image = Image.open(image_path)\n",
    "        images.append(image)\n",
    "\n",
    "# Process the images as required\n",
    "# ...\n",
    "\n",
    "# Example: Showing the first image\n",
    "if images:\n",
    "    images[0].show()\n",
    "else:\n",
    "    print(\"No images found in the directory.\")"
   ]
  },
  {
   "cell_type": "code",
   "execution_count": 11,
   "metadata": {},
   "outputs": [],
   "source": [
    "# Define parameters\n",
    "batch_size = 128\n",
    "num_epochs = 40\n",
    "image_size = (139, 139)\n",
    "num_classes = 41\n"
   ]
  },
  {
   "cell_type": "code",
   "execution_count": 13,
   "metadata": {},
   "outputs": [],
   "source": [
    "# Load the InceptionV3 model\n",
    "image_input = Input(shape=(*image_size, 3))\n",
    "inception_model = InceptionV3(input_tensor=image_input, weights='imagenet', include_top=False)\n"
   ]
  },
  {
   "cell_type": "code",
   "execution_count": 15,
   "metadata": {},
   "outputs": [],
   "source": [
    "# Add a new classification layer\n",
    "x = inception_model.output\n",
    "x = GlobalAveragePooling2D()(x)\n",
    "x = Dense(128, activation='relu')(x)\n",
    "x = Dropout(0.5)(x)\n",
    "class_outputs = Dense(num_classes, activation='softmax')(x)\n"
   ]
  },
  {
   "cell_type": "code",
   "execution_count": null,
   "metadata": {},
   "outputs": [
    {
     "name": "stdout",
     "output_type": "stream",
     "text": [
      "Model compiled successfully\n",
      "Found 33111 images belonging to 41 classes.\n",
      "Training data loaded successfully\n",
      "Found 33111 images belonging to 41 classes.\n",
      "Validation data loaded successfully\n",
      "Epoch 1/30\n"
     ]
    },
    {
     "name": "stderr",
     "output_type": "stream",
     "text": [
      "C:\\Users\\ASUS\\anaconda3\\Lib\\site-packages\\keras\\src\\trainers\\data_adapters\\py_dataset_adapter.py:122: UserWarning: Your `PyDataset` class should call `super().__init__(**kwargs)` in its constructor. `**kwargs` can include `workers`, `use_multiprocessing`, `max_queue_size`. Do not pass these arguments to `fit()`, as they will be ignored.\n",
      "  self._warn_if_super_not_called()\n"
     ]
    },
    {
     "name": "stdout",
     "output_type": "stream",
     "text": [
      "\u001b[1m3312/3312\u001b[0m \u001b[32m━━━━━━━━━━━━━━━━━━━━\u001b[0m\u001b[37m\u001b[0m \u001b[1m966s\u001b[0m 280ms/step - accuracy: 0.1681 - loss: 3.2472 - val_accuracy: 0.3597 - val_loss: 2.2185\n",
      "Epoch 2/30\n",
      "\u001b[1m3312/3312\u001b[0m \u001b[32m━━━━━━━━━━━━━━━━━━━━\u001b[0m\u001b[37m\u001b[0m \u001b[1m920s\u001b[0m 278ms/step - accuracy: 0.2393 - loss: 2.8100 - val_accuracy: 0.3451 - val_loss: 12.6682\n",
      "Epoch 3/30\n",
      "\u001b[1m3312/3312\u001b[0m \u001b[32m━━━━━━━━━━━━━━━━━━━━\u001b[0m\u001b[37m\u001b[0m \u001b[1m929s\u001b[0m 280ms/step - accuracy: 0.3822 - loss: 2.1590 - val_accuracy: 0.5821 - val_loss: 1.3441\n",
      "Epoch 4/30\n",
      "\u001b[1m3312/3312\u001b[0m \u001b[32m━━━━━━━━━━━━━━━━━━━━\u001b[0m\u001b[37m\u001b[0m \u001b[1m922s\u001b[0m 278ms/step - accuracy: 0.4843 - loss: 1.7101 - val_accuracy: 0.6315 - val_loss: 1.5720\n",
      "Epoch 5/30\n",
      "\u001b[1m3312/3312\u001b[0m \u001b[32m━━━━━━━━━━━━━━━━━━━━\u001b[0m\u001b[37m\u001b[0m \u001b[1m908s\u001b[0m 274ms/step - accuracy: 0.5596 - loss: 1.4725 - val_accuracy: 0.7096 - val_loss: 2.3479\n",
      "Epoch 6/30\n",
      "\u001b[1m3312/3312\u001b[0m \u001b[32m━━━━━━━━━━━━━━━━━━━━\u001b[0m\u001b[37m\u001b[0m \u001b[1m911s\u001b[0m 275ms/step - accuracy: 0.6560 - loss: 1.1279 - val_accuracy: 0.8181 - val_loss: 0.5617\n",
      "Epoch 7/30\n",
      "\u001b[1m3312/3312\u001b[0m \u001b[32m━━━━━━━━━━━━━━━━━━━━\u001b[0m\u001b[37m\u001b[0m \u001b[1m913s\u001b[0m 276ms/step - accuracy: 0.7161 - loss: 0.9273 - val_accuracy: 0.7975 - val_loss: 1.4106\n",
      "Epoch 8/30\n",
      "\u001b[1m3312/3312\u001b[0m \u001b[32m━━━━━━━━━━━━━━━━━━━━\u001b[0m\u001b[37m\u001b[0m \u001b[1m917s\u001b[0m 277ms/step - accuracy: 0.7538 - loss: 0.7954 - val_accuracy: 0.7641 - val_loss: 0.7408\n",
      "Epoch 9/30\n",
      "\u001b[1m3312/3312\u001b[0m \u001b[32m━━━━━━━━━━━━━━━━━━━━\u001b[0m\u001b[37m\u001b[0m \u001b[1m919s\u001b[0m 278ms/step - accuracy: 0.7744 - loss: 0.7364 - val_accuracy: 0.8175 - val_loss: 6.9522\n",
      "Epoch 10/30\n",
      "\u001b[1m3312/3312\u001b[0m \u001b[32m━━━━━━━━━━━━━━━━━━━━\u001b[0m\u001b[37m\u001b[0m \u001b[1m923s\u001b[0m 279ms/step - accuracy: 0.7879 - loss: 0.6999 - val_accuracy: 0.8846 - val_loss: 0.3802\n",
      "Epoch 11/30\n",
      "\u001b[1m3312/3312\u001b[0m \u001b[32m━━━━━━━━━━━━━━━━━━━━\u001b[0m\u001b[37m\u001b[0m \u001b[1m927s\u001b[0m 280ms/step - accuracy: 0.8209 - loss: 0.5858 - val_accuracy: 0.8924 - val_loss: 0.3695\n",
      "Epoch 12/30\n",
      "\u001b[1m3312/3312\u001b[0m \u001b[32m━━━━━━━━━━━━━━━━━━━━\u001b[0m\u001b[37m\u001b[0m \u001b[1m934s\u001b[0m 282ms/step - accuracy: 0.8348 - loss: 0.5438 - val_accuracy: 0.8694 - val_loss: 2.0813\n",
      "Epoch 13/30\n",
      "\u001b[1m3312/3312\u001b[0m \u001b[32m━━━━━━━━━━━━━━━━━━━━\u001b[0m\u001b[37m\u001b[0m \u001b[1m931s\u001b[0m 281ms/step - accuracy: 0.8417 - loss: 0.5271 - val_accuracy: 0.9134 - val_loss: 0.2489\n",
      "Epoch 14/30\n",
      "\u001b[1m3312/3312\u001b[0m \u001b[32m━━━━━━━━━━━━━━━━━━━━\u001b[0m\u001b[37m\u001b[0m \u001b[1m932s\u001b[0m 281ms/step - accuracy: 0.8428 - loss: 0.5143 - val_accuracy: 0.8027 - val_loss: 2.8540\n",
      "Epoch 15/30\n",
      "\u001b[1m3312/3312\u001b[0m \u001b[32m━━━━━━━━━━━━━━━━━━━━\u001b[0m\u001b[37m\u001b[0m \u001b[1m933s\u001b[0m 281ms/step - accuracy: 0.8647 - loss: 0.4510 - val_accuracy: 0.9010 - val_loss: 0.5395\n",
      "Epoch 16/30\n",
      "\u001b[1m3312/3312\u001b[0m \u001b[32m━━━━━━━━━━━━━━━━━━━━\u001b[0m\u001b[37m\u001b[0m \u001b[1m933s\u001b[0m 282ms/step - accuracy: 0.8637 - loss: 0.4564 - val_accuracy: 0.8985 - val_loss: 1.4492\n",
      "Epoch 17/30\n",
      "\u001b[1m3312/3312\u001b[0m \u001b[32m━━━━━━━━━━━━━━━━━━━━\u001b[0m\u001b[37m\u001b[0m \u001b[1m940s\u001b[0m 284ms/step - accuracy: 0.8724 - loss: 0.4229 - val_accuracy: 0.9427 - val_loss: 0.2533\n",
      "Epoch 18/30\n",
      "\u001b[1m3312/3312\u001b[0m \u001b[32m━━━━━━━━━━━━━━━━━━━━\u001b[0m\u001b[37m\u001b[0m \u001b[1m940s\u001b[0m 284ms/step - accuracy: 0.8825 - loss: 0.3904 - val_accuracy: 0.7662 - val_loss: 6.5528\n",
      "Epoch 19/30\n",
      "\u001b[1m3312/3312\u001b[0m \u001b[32m━━━━━━━━━━━━━━━━━━━━\u001b[0m\u001b[37m\u001b[0m \u001b[1m940s\u001b[0m 284ms/step - accuracy: 0.8844 - loss: 0.3894 - val_accuracy: 0.8929 - val_loss: 0.6865\n",
      "Epoch 20/30\n",
      "\u001b[1m3312/3312\u001b[0m \u001b[32m━━━━━━━━━━━━━━━━━━━━\u001b[0m\u001b[37m\u001b[0m \u001b[1m943s\u001b[0m 285ms/step - accuracy: 0.8892 - loss: 0.3671 - val_accuracy: 0.8955 - val_loss: 4.8352\n",
      "Epoch 21/30\n",
      "\u001b[1m3312/3312\u001b[0m \u001b[32m━━━━━━━━━━━━━━━━━━━━\u001b[0m\u001b[37m\u001b[0m \u001b[1m969s\u001b[0m 293ms/step - accuracy: 0.8923 - loss: 0.3677 - val_accuracy: 0.9045 - val_loss: 4.5925\n",
      "Epoch 22/30\n",
      "\u001b[1m3312/3312\u001b[0m \u001b[32m━━━━━━━━━━━━━━━━━━━━\u001b[0m\u001b[37m\u001b[0m \u001b[1m982s\u001b[0m 296ms/step - accuracy: 0.9005 - loss: 0.3334 - val_accuracy: 0.9086 - val_loss: 1.8269\n",
      "Epoch 23/30\n",
      "\u001b[1m3312/3312\u001b[0m \u001b[32m━━━━━━━━━━━━━━━━━━━━\u001b[0m\u001b[37m\u001b[0m \u001b[1m990s\u001b[0m 299ms/step - accuracy: 0.8965 - loss: 0.3319 - val_accuracy: 0.9292 - val_loss: 0.6311\n",
      "Epoch 24/30\n",
      "\u001b[1m3312/3312\u001b[0m \u001b[32m━━━━━━━━━━━━━━━━━━━━\u001b[0m\u001b[37m\u001b[0m \u001b[1m998s\u001b[0m 301ms/step - accuracy: 0.9055 - loss: 0.3115 - val_accuracy: 0.9063 - val_loss: 3.8192\n",
      "Epoch 25/30\n",
      "\u001b[1m3312/3312\u001b[0m \u001b[32m━━━━━━━━━━━━━━━━━━━━\u001b[0m\u001b[37m\u001b[0m \u001b[1m1000s\u001b[0m 302ms/step - accuracy: 0.9081 - loss: 0.2974 - val_accuracy: 0.9622 - val_loss: 0.1177\n",
      "Epoch 26/30\n",
      "\u001b[1m3312/3312\u001b[0m \u001b[32m━━━━━━━━━━━━━━━━━━━━\u001b[0m\u001b[37m\u001b[0m \u001b[1m1011s\u001b[0m 305ms/step - accuracy: 0.9064 - loss: 0.3033 - val_accuracy: 0.9341 - val_loss: 2.4792\n",
      "Epoch 27/30\n",
      "\u001b[1m3312/3312\u001b[0m \u001b[32m━━━━━━━━━━━━━━━━━━━━\u001b[0m\u001b[37m\u001b[0m \u001b[1m1032s\u001b[0m 312ms/step - accuracy: 0.9110 - loss: 0.2994 - val_accuracy: 0.9299 - val_loss: 1.4511\n",
      "Epoch 28/30\n",
      "\u001b[1m3312/3312\u001b[0m \u001b[32m━━━━━━━━━━━━━━━━━━━━\u001b[0m\u001b[37m\u001b[0m \u001b[1m1042s\u001b[0m 314ms/step - accuracy: 0.9148 - loss: 0.2862 - val_accuracy: 0.9307 - val_loss: 1.2454\n",
      "Epoch 29/30\n",
      "\u001b[1m3312/3312\u001b[0m \u001b[32m━━━━━━━━━━━━━━━━━━━━\u001b[0m\u001b[37m\u001b[0m \u001b[1m1028s\u001b[0m 310ms/step - accuracy: 0.9104 - loss: 0.2991 - val_accuracy: 0.9422 - val_loss: 1.7507\n",
      "Epoch 30/30\n",
      "\u001b[1m3312/3312\u001b[0m \u001b[32m━━━━━━━━━━━━━━━━━━━━\u001b[0m\u001b[37m\u001b[0m \u001b[1m0s\u001b[0m 253ms/step - accuracy: 0.9031 - loss: 0.3180"
     ]
    }
   ],
   "source": [
    "# Create the model\n",
    "model = Model(inputs=inception_model.input, outputs=class_outputs)\n",
    "\n",
    "# Compile the model\n",
    "model.compile(loss='categorical_crossentropy', optimizer=Adam(learning_rate=0.001), metrics=['accuracy'])\n",
    "\n",
    "print(\"Model compiled successfully\")\n",
    "\n",
    "# Load the training data\n",
    "train_datagen = ImageDataGenerator(\n",
    "    preprocessing_function=preprocess_input,\n",
    "    rotation_range=20,\n",
    "    width_shift_range=0.2,\n",
    "    height_shift_range=0.2,\n",
    "    horizontal_flip=True\n",
    ")\n",
    "\n",
    "train_dataset = train_datagen.flow_from_directory(\n",
    "    '/Users/ASUS/Downloads/archive/dataset/train',\n",
    "    target_size=(139, 139),\n",
    "    batch_size=10,\n",
    "    class_mode='categorical'\n",
    ")\n",
    "print(\"Training data loaded successfully\")\n",
    "\n",
    "# Load the validation data\n",
    "val_datagen = ImageDataGenerator(preprocessing_function=preprocess_input)\n",
    "\n",
    "val_dataset = val_datagen.flow_from_directory(\n",
    "    '/Users/ASUS/Downloads/archive/dataset/train',  # Make sure this path is correct\n",
    "    target_size=(139, 139),\n",
    "    batch_size=10,\n",
    "    class_mode='categorical'\n",
    ")\n",
    "print(\"Validation data loaded successfully\")\n",
    "\n",
    "# Train the model and store the history\n",
    "history = model.fit(\n",
    "    train_dataset,\n",
    "    epochs=30,\n",
    "    validation_data=val_dataset\n",
    ")\n",
    "print(\"Model trained successfully\")\n",
    "\n",
    "# Evaluate the model on the test data\n",
    "test_datagen = ImageDataGenerator(preprocessing_function=preprocess_input)\n",
    "\n",
    "test_dataset = test_datagen.flow_from_directory(\n",
    "    '/Users/ASUS/Downloads/archive/dataset/test',\n",
    "    target_size=(139, 139),\n",
    "    batch_size=10,\n",
    "    class_mode='categorical'\n",
    ")\n",
    "print(\"Test data loaded successfully\")\n",
    "\n",
    "# Save the model\n",
    "model.save('plant_disease_model_inception.h5')\n",
    "print(\"Model saved successfully\")\n"
   ]
  },
  {
   "cell_type": "code",
   "execution_count": 35,
   "metadata": {},
   "outputs": [
    {
     "data": {
      "text/plain": [
       "['plant_disease_model_inception.pkl']"
      ]
     },
     "execution_count": 35,
     "metadata": {},
     "output_type": "execute_result"
    }
   ],
   "source": [
    "# Save the model in native Keras format\n",
    "model.save('plant_disease_model_inception.keras')\n",
    "\n",
    "import joblib\n",
    "\n",
    "# Save the model using joblib\n",
    "joblib.dump(model, 'plant_disease_model_inception.pkl')\n"
   ]
  },
  {
   "cell_type": "code",
   "execution_count": 39,
   "metadata": {},
   "outputs": [],
   "source": [
    "# Save model weights\n",
    "model.save_weights('model_weights.weights.h5')\n",
    "\n",
    "# Save model configurations (architecture, optimizer state, etc.)\n",
    "model_config = model.get_config()\n",
    "with open('model_config.pkl', 'wb') as config_file:\n",
    "    joblib.dump(model_config, config_file)\n"
   ]
  },
  {
   "cell_type": "code",
   "execution_count": 43,
   "metadata": {},
   "outputs": [
    {
     "data": {
      "image/png": "[encoded data removed]",
      "text/plain": [
       "<Figure size 640x480 with 1 Axes>"
      ]
     },
     "metadata": {},
     "output_type": "display_data"
    },
    {
     "data": {
      "image/png": "[encoded data removed]",
      "text/plain": [
       "<Figure size 640x480 with 1 Axes>"
      ]
     },
     "metadata": {},
     "output_type": "display_data"
    }
   ],
   "source": [
    "# Plot the metrics to visualize the training process\n",
    "import matplotlib.pyplot as plt\n",
    "\n",
    "def plot_metrics(history):\n",
    "    # Plot training & validation accuracy values\n",
    "    plt.plot(history.history['accuracy'])\n",
    "    plt.plot(history.history['val_accuracy'])\n",
    "    plt.title('Model accuracy')\n",
    "    plt.ylabel('Accuracy')\n",
    "    plt.xlabel('Epoch')\n",
    "    plt.legend(['Train', 'Validation'], loc='upper left')\n",
    "    plt.show()\n",
    "\n",
    "    # Plot training & validation loss values\n",
    "    plt.plot(history.history['loss'])\n",
    "    plt.plot(history.history['val_loss'])\n",
    "    plt.title('Model loss')\n",
    "    plt.ylabel('Loss')\n",
    "    plt.xlabel('Epoch')\n",
    "    plt.legend(['Train', 'Validation'], loc='upper left')\n",
    "    plt.show()\n",
    "\n",
    "plot_metrics(history)"
   ]
  },
  {
   "cell_type": "code",
   "execution_count": 47,
   "metadata": {},
   "outputs": [
    {
     "name": "stdout",
     "output_type": "stream",
     "text": [
      "Found 8339 images belonging to 41 classes.\n",
      "\u001b[1m  3/834\u001b[0m \u001b[37m━━━━━━━━━━━━━━━━━━━━\u001b[0m \u001b[1m41s\u001b[0m 50ms/step - accuracy: 0.9056 - loss: 0.3310 "
     ]
    },
    {
     "name": "stderr",
     "output_type": "stream",
     "text": [
      "C:\\Users\\ASUS\\anaconda3\\Lib\\site-packages\\keras\\src\\trainers\\data_adapters\\py_dataset_adapter.py:122: UserWarning: Your `PyDataset` class should call `super().__init__(**kwargs)` in its constructor. `**kwargs` can include `workers`, `use_multiprocessing`, `max_queue_size`. Do not pass these arguments to `fit()`, as they will be ignored.\n",
      "  self._warn_if_super_not_called()\n"
     ]
    },
    {
     "name": "stdout",
     "output_type": "stream",
     "text": [
      "\u001b[1m834/834\u001b[0m \u001b[32m━━━━━━━━━━━━━━━━━━━━\u001b[0m\u001b[37m\u001b[0m \u001b[1m55s\u001b[0m 65ms/step - accuracy: 0.8368 - loss: 0.8588\n",
      "Time taken to evaluate the model: 54.559985876083374\n",
      "Test Loss: 0.6827265620231628\n",
      "Test Accuracy: 0.8447055816650391\n",
      "\u001b[1m834/834\u001b[0m \u001b[32m━━━━━━━━━━━━━━━━━━━━\u001b[0m\u001b[37m\u001b[0m \u001b[1m58s\u001b[0m 67ms/step\n",
      "              precision    recall  f1-score   support\n",
      "\n",
      "           0     0.7591    0.8254    0.7909       126\n",
      "           1     0.7568    0.9032    0.8235       124\n",
      "           2     1.0000    0.8182    0.9000        55\n",
      "           3     0.9214    0.8906    0.9057       329\n",
      "           4     0.7778    0.9667    0.8620       210\n",
      "           5     0.7617    0.9588    0.8490       170\n",
      "           6     1.0000    0.1000    0.1818        10\n",
      "           7     0.0000    0.0000    0.0000        10\n",
      "           8     0.0000    0.0000    0.0000        10\n",
      "           9     0.2500    0.1000    0.1429        10\n",
      "          10     0.4737    0.9000    0.6207        10\n",
      "          11     0.6279    0.2328    0.3396       116\n",
      "          12     0.5511    0.9869    0.7073       153\n",
      "          13     0.0000    0.0000    0.0000        31\n",
      "          14     0.9524    0.1961    0.3252       102\n",
      "          15     0.9639    0.7857    0.8657       238\n",
      "          16     0.7041    0.9543    0.8103       197\n",
      "          17     0.9431    1.0000    0.9707       232\n",
      "          18     0.9756    0.8475    0.9070       236\n",
      "          19     0.9815    0.9601    0.9707       276\n",
      "          20     0.9545    0.9767    0.9655       215\n",
      "          21     0.7816    0.8095    0.7953        84\n",
      "          22     0.9036    0.9194    0.9114       459\n",
      "          23     0.9857    0.9583    0.9718        72\n",
      "          24     0.6897    0.9045    0.7826       199\n",
      "          25     0.6627    0.9390    0.7770       295\n",
      "          26     0.9135    0.9500    0.9314       200\n",
      "          27     0.7216    0.9200    0.8088       200\n",
      "          28     0.0000    0.0000    0.0000        30\n",
      "          29     0.9945    0.8190    0.8983       221\n",
      "          30     0.8667    0.8571    0.8619        91\n",
      "          31     0.9213    0.7718    0.8399       425\n",
      "          32     0.9697    0.1600    0.2747       200\n",
      "          33     0.7547    0.7428    0.7487       381\n",
      "          34     0.8000    0.7579    0.7784       190\n",
      "          35     0.8127    0.6864    0.7443       354\n",
      "          36     0.9552    0.7642    0.8491       335\n",
      "          37     0.8197    0.8929    0.8547       280\n",
      "          38     0.9137    0.9888    0.9498      1071\n",
      "          39     0.6486    0.9730    0.7784        74\n",
      "          40     0.9754    0.9969    0.9860       318\n",
      "\n",
      "    accuracy                         0.8447      8339\n",
      "   macro avg     0.7426    0.7125    0.6947      8339\n",
      "weighted avg     0.8531    0.8447    0.8312      8339\n",
      "\n"
     ]
    },
    {
     "name": "stderr",
     "output_type": "stream",
     "text": [
      "C:\\Users\\ASUS\\anaconda3\\Lib\\site-packages\\sklearn\\metrics\\_classification.py:1509: UndefinedMetricWarning: Precision is ill-defined and being set to 0.0 in labels with no predicted samples. Use `zero_division` parameter to control this behavior.\n",
      "  _warn_prf(average, modifier, f\"{metric.capitalize()} is\", len(result))\n",
      "C:\\Users\\ASUS\\anaconda3\\Lib\\site-packages\\sklearn\\metrics\\_classification.py:1509: UndefinedMetricWarning: Precision is ill-defined and being set to 0.0 in labels with no predicted samples. Use `zero_division` parameter to control this behavior.\n",
      "  _warn_prf(average, modifier, f\"{metric.capitalize()} is\", len(result))\n",
      "C:\\Users\\ASUS\\anaconda3\\Lib\\site-packages\\sklearn\\metrics\\_classification.py:1509: UndefinedMetricWarning: Precision is ill-defined and being set to 0.0 in labels with no predicted samples. Use `zero_division` parameter to control this behavior.\n",
      "  _warn_prf(average, modifier, f\"{metric.capitalize()} is\", len(result))\n"
     ]
    }
   ],
   "source": [
    "# Load the test data\n",
    "test_datagen = ImageDataGenerator(preprocessing_function=preprocess_input)\n",
    "\n",
    "test_dataset = test_datagen.flow_from_directory(\n",
    "    '/Users/ASUS/Downloads/archive/dataset/test',\n",
    "    target_size=(139, 139),\n",
    "    batch_size=10,\n",
    "    class_mode='categorical',\n",
    "    shuffle=False  # Set shuffle to False to maintain the order for evaluation\n",
    ")\n",
    "\n",
    "# Evaluate the model on the test data\n",
    "start_time = time.time()\n",
    "evaluation_result = model.evaluate(test_dataset)\n",
    "print(\"Time taken to evaluate the model: \" + str(time.time() - start_time))\n",
    "\n",
    "# Print the evaluation result\n",
    "print(\"Test Loss:\", evaluation_result[0])\n",
    "print(\"Test Accuracy:\", evaluation_result[1])\n",
    "\n",
    "# Make predictions on the test set\n",
    "y_pred = model.predict(test_dataset)\n",
    "y_pred_bool = np.argmax(y_pred, axis=1)\n",
    "\n",
    "# Get true labels directly from test_dataset\n",
    "true_labels = test_dataset.labels\n",
    "\n",
    "# Print the classification report\n",
    "print(classification_report(true_labels, y_pred_bool, digits=4))\n",
    "\n",
    "# Optionally, you can save the evaluation results for further analysis\n",
    "np.savetxt(\"y_true.txt\", true_labels, fmt=\"%d\")\n",
    "np.savetxt(\"y_pred.txt\", y_pred_bool, fmt=\"%d\")\n"
   ]
  },
  {
   "cell_type": "code",
   "execution_count": 49,
   "metadata": {},
   "outputs": [],
   "source": [
    "# from sklearn.svm import SVC\n",
    "# from sklearn.preprocessing import StandardScaler\n",
    "# from sklearn.metrics import classification_report, confusion_matrix\n",
    "# import joblib\n",
    "# import numpy as np\n",
    "\n",
    "# # Extract features from the InceptionV3 model\n",
    "# train_features = model.predict(train_dataset)\n",
    "# val_features = model.predict(train_dataset)\n",
    "\n",
    "# # Flatten the features\n",
    "# train_features_flatten = train_features.reshape(train_features.shape[0], -1)\n",
    "# val_features_flatten = val_features.reshape(val_features.shape[0], -1)\n",
    "\n",
    "# # Scale the data\n",
    "# scaler = StandardScaler()\n",
    "# train_features_scaled = scaler.fit_transform(train_features_flatten)\n",
    "# val_features_scaled = scaler.transform(val_features_flatten)\n",
    "\n",
    "# # Ensure train_labels is a 1D array\n",
    "# train_labels = np.argmax(train_labels, axis=1)\n",
    "\n",
    "# # Train the SVM classifier\n",
    "# svm_model = SVC(kernel='rbf', C=1.0, gamma='auto')\n",
    "# svm_model.fit(train_features_scaled, train_labels)\n",
    "\n",
    "# # Save the SVM model\n",
    "# joblib.dump(svm_model, 'svm_model.pkl')\n",
    "\n",
    "# # Make predictions on the validation set\n",
    "# val_predictions = svm_model.predict(val_features_scaled)\n",
    "\n",
    "# # Convert val_labels to 1D array\n",
    "# val_labels = np.argmax(val_labels, axis=1)\n",
    "\n",
    "# # Print the classification report and confusion matrix\n",
    "# print(\"Classification Report:\")\n",
    "# print(classification_report(val_labels, val_predictions))\n",
    "# print(\"\\nConfusion Matrix:\")\n",
    "# print(confusion_matrix(val_labels, val_predictions))\n"
   ]
  },
  {
   "cell_type": "code",
   "execution_count": null,
   "metadata": {},
   "outputs": [],
   "source": []
  }
 ],
 "metadata": {
  "kaggle": {
   "accelerator": "none",
   "dataSources": [
    {
     "datasetId": 2733399,
     "sourceId": 4723886,
     "sourceType": "datasetVersion"
    }
   ],
   "dockerImageVersionId": 30587,
   "isGpuEnabled": false,
   "isInternetEnabled": false,
   "language": "python",
   "sourceType": "notebook"
  },
  "kernelspec": {
   "display_name": "Python 3 (ipykernel)",
   "language": "python",
   "name": "python3"
  },
  "language_info": {
   "codemirror_mode": {
    "name": "ipython",
    "version": 3
   },
   "file_extension": ".py",
   "mimetype": "text/x-python",
   "name": "python",
   "nbconvert_exporter": "python",
   "pygments_lexer": "ipython3",
   "version": "3.12.4"
  }
 },
 "nbformat": 4,
 "nbformat_minor": 4
}
